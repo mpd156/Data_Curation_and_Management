{
 "cells": [
  {
   "cell_type": "markdown",
   "id": "ee8b7bdb",
   "metadata": {},
   "source": [
    "## Q1 (2 points)\n",
    "Convert a list of multiple integers into a single integer:\n",
    "\n",
    "Sample list: [11, 33, 50]\n",
    "\n",
    "Expected Output: 113350"
   ]
  },
  {
   "cell_type": "code",
   "execution_count": 1,
   "id": "db37fd52",
   "metadata": {},
   "outputs": [],
   "source": [
    "a = [11, 33, 50]"
   ]
  },
  {
   "cell_type": "code",
   "execution_count": 2,
   "id": "663b70f8",
   "metadata": {},
   "outputs": [],
   "source": [
    "# Write your program here. The cell output should be the integer 113350.\n",
    "a = [11, 33, 50]\n",
    "for i in a:\n",
    "    print(i, end=\"\")\n"
   ]
  },
  {
   "cell_type": "markdown",
   "id": "5b63b43f",
   "metadata": {},
   "source": [
    "## Q2 (3 points)\n",
    "Flatten a given nested list structure. \n",
    "\n",
    "Original list: [0, 10, [20, 30], 40, 50, [60, 70, 80], [90, 100, 110, 120]]\n",
    "\n",
    "Flatten list:\n",
    "[0, 10, 20, 30, 40, 50, 60, 70, 80, 90, 100, 110, 120]"
   ]
  },
  {
   "cell_type": "code",
   "execution_count": 3,
   "id": "595e90a2",
   "metadata": {},
   "outputs": [],
   "source": [
    "a = [0, 10, [20, 30], 40, 50, [60, 70, 80], [90, 100, 110, 120]]"
   ]
  },
  {
   "cell_type": "code",
   "execution_count": 4,
   "id": "ce8fc6b2",
   "metadata": {
    "scrolled": true
   },
   "outputs": [],
   "source": [
    "# Write your program here. The cell output should be the flattened list.\n",
    "l = [0, 10, [20, 30], 40, 50, [60, 70, 80], [90, 100, 110, 120]]\n",
    "\n",
    "\n",
    "output = []\n",
    "\n",
    "\n",
    "def remove_nesting(l):\n",
    "    for i in l:\n",
    "        if type(i) == list:\n",
    "            remove_nesting(i)\n",
    "        else:\n",
    "            output.append(i)\n",
    "\n",
    "\n",
    "remove_nesting(l)\n",
    "print(output)"
   ]
  },
  {
   "cell_type": "markdown",
   "id": "a17788d2",
   "metadata": {},
   "source": [
    "## Q3 (2 points)\n",
    "Convert a given dictionary into a list of lists.\n",
    "\n",
    "Original Dictionary:\n",
    "{1: 'red', 2: 'green', 3: 'black', 4: 'white', 5: 'black'}\n",
    "\n",
    "Convert the said dictionary into a list of lists:\n",
    "[[1, 'red'], [2, 'green'], [3, 'black'], [4, 'white'], [5, 'black']]"
   ]
  },
  {
   "cell_type": "code",
   "execution_count": 5,
   "id": "c11f6cdc",
   "metadata": {},
   "outputs": [],
   "source": [
    "myDict = {\n",
    "    1: 'red',\n",
    "    2: 'green',\n",
    "    3: 'black',\n",
    "    4: 'white',\n",
    "    5: 'black'\n",
    "}"
   ]
  },
  {
   "cell_type": "code",
   "execution_count": 6,
   "id": "50be9788",
   "metadata": {
    "scrolled": true
   },
   "outputs": [],
   "source": [
    "# Write your program here. The cell output should be the list of lists\n",
    "d = {1: 'red', 2: 'green', 3: 'black', 4: 'white', 5: 'black'}\n",
    "\n",
    "print(list(d.items()))"
   ]
  },
  {
   "cell_type": "markdown",
   "id": "11648db5",
   "metadata": {},
   "source": [
    "## Q4 (3 points)\n",
    "Create a new GitHub repository. Save this notebook to that repository, and enter the link to the GitHub notebook below. Note that you are not required to reupload to GitHub after filling in the box below."
   ]
  },
  {
   "cell_type": "markdown",
   "id": "c37d7ac3",
   "metadata": {},
   "source": [
    "https://github.com/mpd156/Data_Curation_and_Management"
   ]
  }
 ],
 "metadata": {
  "kernelspec": {
   "display_name": "Python 3 (ipykernel)",
   "language": "python",
   "name": "python3"
  },
  "language_info": {
   "codemirror_mode": {
    "name": "ipython",
    "version": 3
   },
   "file_extension": ".py",
   "mimetype": "text/x-python",
   "name": "python",
   "nbconvert_exporter": "python",
   "pygments_lexer": "ipython3",
   "version": "3.9.7"
  }
 },
 "nbformat": 4,
 "nbformat_minor": 5
}
